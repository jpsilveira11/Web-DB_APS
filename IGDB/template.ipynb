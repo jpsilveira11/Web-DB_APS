{
 "cells": [
  {
   "attachments": {},
   "cell_type": "markdown",
   "metadata": {},
   "source": [
    "<h1>Imports</h1>"
   ]
  },
  {
   "cell_type": "code",
   "execution_count": 1,
   "metadata": {},
   "outputs": [],
   "source": [
    "import requests\n",
    "import csv\n",
    "import json"
   ]
  },
  {
   "attachments": {},
   "cell_type": "markdown",
   "metadata": {},
   "source": [
    "<h1>Constants</h1> "
   ]
  },
  {
   "cell_type": "code",
   "execution_count": null,
   "metadata": {},
   "outputs": [],
   "source": [
    "url = \"https://api.igdb.com/v4/XXX\"\n",
    "\n",
    "payload = \"XXX,XXX,XXX;\\nlimit 500;\\nsort XXX;\"\n",
    "headers = {\n",
    "    \"cookie\": \"XXX\",\n",
    "    \"Client-ID\": \"XXX\",\n",
    "    \"Authorization\": \"XXX\",\n",
    "    \"Content-Type\": \"text/plain\"\n",
    "}"
   ]
  },
  {
   "attachments": {},
   "cell_type": "markdown",
   "metadata": {},
   "source": [
    "<h1>Functions</h1>"
   ]
  },
  {
   "cell_type": "code",
   "execution_count": 2,
   "metadata": {},
   "outputs": [],
   "source": [
    "def get_response(url,payload,headers):\n",
    "    return requests.request(\"POST\", url, data=payload, headers=headers)"
   ]
  },
  {
   "cell_type": "code",
   "execution_count": 3,
   "metadata": {},
   "outputs": [],
   "source": [
    "def get_csv(data,filename=None):\n",
    "    if filename==None:\n",
    "        filename='XXX.csv'\n",
    "    with open(filename,'w' ''', encoding=\"utf-8\" ''') as file:\n",
    "        writer=csv.writer(file)\n",
    "        writer.writerow(['XXX','XXX','XXX'])\n",
    "        for instance in data:\n",
    "            writer.writerow(instance.values())"
   ]
  },
  {
   "cell_type": "code",
   "execution_count": null,
   "metadata": {},
   "outputs": [],
   "source": [
    "def get_filename():\n",
    "    filename=input('Nomeie o arquivo: (Padrão: \"XXX.csv\")')\n",
    "    if filename=='':\n",
    "        return None\n",
    "    elif not '.csv' in filename:\n",
    "        filename=filename+'.csv'\n",
    "        return filename"
   ]
  },
  {
   "cell_type": "code",
   "execution_count": null,
   "metadata": {},
   "outputs": [],
   "source": [
    "def get_list(response):\n",
    "    json=response.json()\n",
    "    data=[]\n",
    "    for content in json:\n",
    "        data.append(content)\n",
    "    return data"
   ]
  },
  {
   "attachments": {},
   "cell_type": "markdown",
   "metadata": {},
   "source": [
    "<h1>Execution</h1>"
   ]
  },
  {
   "cell_type": "code",
   "execution_count": null,
   "metadata": {},
   "outputs": [],
   "source": [
    "response=get_response(url,payload,headers)\n",
    "data=get_list(response)\n",
    "filename=get_filename()\n",
    "\n",
    "get_csv(data,filename)"
   ]
  }
 ],
 "metadata": {
  "kernelspec": {
   "display_name": "Python 3",
   "language": "python",
   "name": "python3"
  },
  "language_info": {
   "codemirror_mode": {
    "name": "ipython",
    "version": 3
   },
   "file_extension": ".py",
   "mimetype": "text/x-python",
   "name": "python",
   "nbconvert_exporter": "python",
   "pygments_lexer": "ipython3",
   "version": "3.11.3"
  },
  "orig_nbformat": 4
 },
 "nbformat": 4,
 "nbformat_minor": 2
}
